{
  "nbformat": 4,
  "nbformat_minor": 0,
  "metadata": {
    "colab": {
      "name": "Test_Tensorflow.ipynb",
      "provenance": [],
      "collapsed_sections": [],
      "include_colab_link": true
    },
    "kernelspec": {
      "name": "python3",
      "display_name": "Python 3"
    },
    "accelerator": "TPU"
  },
  "cells": [
    {
      "cell_type": "markdown",
      "metadata": {
        "id": "view-in-github",
        "colab_type": "text"
      },
      "source": [
        "<a href=\"https://colab.research.google.com/github/isaacwein/go-test-project/blob/master/Test_Tensorflow.ipynb\" target=\"_parent\"><img src=\"https://colab.research.google.com/assets/colab-badge.svg\" alt=\"Open In Colab\"/></a>"
      ]
    },
    {
      "cell_type": "markdown",
      "metadata": {
        "id": "3uaWiUogoX94"
      },
      "source": [
        "# **Test Tensoflow** 1"
      ]
    },
    {
      "cell_type": "code",
      "metadata": {
        "id": "1N-8HXcAoL-P"
      },
      "source": [
        "import sys\n",
        "import tensorflow as tf\n",
        "import numpy as np"
      ],
      "execution_count": 1,
      "outputs": []
    },
    {
      "cell_type": "markdown",
      "metadata": {
        "id": "ADD4xG3zrtd9"
      },
      "source": [
        "**Require:**<br />\n",
        ">Tensorflow version: 2.0 and up<br />\n",
        ">Pyhton verton 3.6 an up<br />"
      ]
    },
    {
      "cell_type": "code",
      "metadata": {
        "id": "tCkpmUzprvgn",
        "outputId": "ab12b670-7d2f-4435-c556-10c3a9a1e33b",
        "colab": {
          "base_uri": "https://localhost:8080/",
          "height": 107
        }
      },
      "source": [
        "\n",
        "print(\"Python version:\",sys.version) \n",
        "print(\"Version info:\", sys.version_info)\n",
        "print(\"Tensorflow version:\",tf.__version__)\n",
        "print(\"Numpy version:\",np.__version__)"
      ],
      "execution_count": 2,
      "outputs": [
        {
          "output_type": "stream",
          "text": [
            "Python version: 3.6.9 (default, Jul 17 2020, 12:50:27) \n",
            "[GCC 8.4.0]\n",
            "Version info: sys.version_info(major=3, minor=6, micro=9, releaselevel='final', serial=0)\n",
            "Tensorflow version: 2.3.0\n",
            "Numpy version: 1.18.5\n"
          ],
          "name": "stdout"
        }
      ]
    }
  ]
}